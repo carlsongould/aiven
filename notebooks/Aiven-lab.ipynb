{
 "cells": [
  {
   "cell_type": "markdown",
   "metadata": {},
   "source": [
    "<img src=\"images/aiven-logo.png\" alt=\"Aiven logo\" style=\"width:200px;height:100px;\">"
   ]
  },
  {
   "cell_type": "markdown",
   "metadata": {},
   "source": [
    "\n",
    "<h1><font color=\"purple\">Lab Description</font></h1>\n",
    "The purpose of the this lab is to walk a user through building out an pipeline using the aiven platform.\n",
    "<p>The aiven platform will be used to create and deploy the following services on the Aiven platform using the console:\n",
    "<lu>\n",
    "<li><b>Kafka</b> - used for event streaming platform</li>\n",
    "<li><b>Flink</b> - stream-processing and batch-processing</li>\n",
    "<li><b>M3</b> - used for storing realtime metrics at long retention</li>\n",
    "<li><b>Grafana</b> - used to analyze and visualize data</li>\n",
    "</lu>\n",
    "<p><h3> Lab format</h3>\n",
    "<br>The lab is broken into 4 sections. However, sections 2, 3 and 4 will be exclusively conducted within aiven console.  Each section will need to be completed in order to have a complete pipeline with observibility visualizations.  \n",
    "<img src=\"images/application-flow.png\" alt=\"Application Pipeline\" style=\"width:6000px;height:100px;\">  \n",
    "<br> All services are part of the Aiven platform.  \n",
    "<p><b><font color=\"darkblue\">Requirements:</font></b>\n",
    "<br><font color=\"purple\">To complete this lab you will need:\n",
    "    <lu>\n",
    "<li>An Aiven account, see <a href=\"https://aiven.io/community/forum/t/creating-an-aiven-account/687\"> “Creating an Aiven account”</a></li>\n",
    "<li>Access to a linux terminal window(or macOS terminal). </li>\n",
    "<li>A system running jupyter lab notebook. The below coding examples will be cut and paste into the notebook being created.</li>\n",
    "<li>Basic understanding of python coding </li>\n",
    "</lu>\n",
    "   \n",
    "    \n",
    "\n"
   ]
  },
  {
   "cell_type": "markdown",
   "metadata": {},
   "source": [
    "<hr>\n",
    "<h1>Step 1: Aiven Kafka </h1>\n",
    "<p><b>Section Description</b>:\n",
    "<br>As part of this section we will create a Kafka service into Aiven and write a piece of code that produces valid JSON data to a topic.\n",
    "Our topic will be titled: financial_transactions\n",
    "The key will be a valid JSON string containing a random id, e.g. UUID, and the message payload should be a valid JSON object. The payload will be a mock \"event\" from <i>financial transactions</i>. The event includes a timestamp represented by a string with the date in ISO 8601 format.\n",
    "\n",
    "<hr>\n",
    "<h3>Step 1.1: Create a Kafka Service on Aiven</h3>\n",
    "\n",
    "<br>1. Sign in to your Aiven account or create a new one if you haven't already.\n",
    "<br>2. Navigate to the Aiven console and click on \"Apache Kafka\" in section \"Create new service.\"\n",
    "<br>3. Select \"Apache Kafka\" as the service type.\n",
    "<br>4. Choose your preferred cloud provider, region, and plan.\n",
    "<br>5. Configure the settings such as service name, project, and authentication method (e.g., username/password or certificate).\n",
    "<br>6. Review and confirm your configuration, then click \"Create service.\"\n",
    "<hr>"
   ]
  },
  {
   "cell_type": "markdown",
   "metadata": {},
   "source": [
    "<h3>Step 1.2: Create a kafka topic in our cluster</h3>\n",
    "<b>Section Description</b>\n",
    "\n",
    "\n",
    "We will be creating a topic within our Aiven Kafka cluster.  After which, we will use a python script to produce some data to the topic. \n",
    "<br>1. To create topic, from within your project click on the kafka service that was recently created. \n",
    "br\n",
    "<br>2. From the kafka service overview (path should be similar to: \n",
    "         My Organization / carlsongould-2cdd /sa-kafka-homework / Overview\n",
    "<br>3. On the left side of the overview page, click: “Topic”\n",
    "<br>4. Enter ‘financial_transactions’\n",
    "<br>5. Click ‘Create topic’\n",
    "\n",
    "\n",
    "\n"
   ]
  },
  {
   "cell_type": "markdown",
   "metadata": {},
   "source": [
    "<hr>\n",
    "<h3>Step 1.3: Create a producer and events python script </h3>\n",
    "<b>Section Description</b>:\n",
    "<br>The script we are creating will produce events and send them to our topic in our kafka service.  \n",
    "<br>The script will create event messages that contain the following data in JSON format:\n"
   ]
  },
  {
   "cell_type": "raw",
   "metadata": {},
   "source": [
    "    id                STRING\n",
    "    payment_timestamp TIMESTAMP \n",
    "    account_number    STRING   \n",
    "    account_holder    STRING\n",
    "    payment_amount    FLOAT  "
   ]
  },
  {
   "cell_type": "markdown",
   "metadata": {},
   "source": [
    "<p>Within the jupyter notebook, the following dependencies will be installed for this lab:\n",
    "<br>Install Required Dependency: \n",
    "<lu>\n",
    "    <li>kafka-python</li>\n",
    "    <li>aiven-client</li>\n",
    "        <li>faker (to create fake data)</li>\n",
    "\n",
    "<p>Please note that the python script listed below can be saved locally OR placed within the notebook.  It can be repeatedly run as part of the process.\n",
    "     <hr>"
   ]
  },
  {
   "cell_type": "code",
   "execution_count": 1,
   "metadata": {},
   "outputs": [
    {
     "name": "stdout",
     "output_type": "stream",
     "text": [
      "Requirement already satisfied: kafka-python in /Users/jeffreycarlson/opt/anaconda3/lib/python3.8/site-packages (2.0.2)\r\n"
     ]
    }
   ],
   "source": [
    "#installing dependencies\n",
    "!pip install kafka-python"
   ]
  },
  {
   "cell_type": "code",
   "execution_count": 2,
   "metadata": {},
   "outputs": [
    {
     "name": "stdout",
     "output_type": "stream",
     "text": [
      "Requirement already satisfied: aiven-client in /Users/jeffreycarlson/opt/anaconda3/lib/python3.8/site-packages (4.1.1)\r\n",
      "Requirement already satisfied: requests-toolbelt>=0.9.0 in /Users/jeffreycarlson/opt/anaconda3/lib/python3.8/site-packages (from aiven-client) (1.0.0)\r\n",
      "Requirement already satisfied: requests>=2.9.1; sys_platform != \"linux\" in /Users/jeffreycarlson/opt/anaconda3/lib/python3.8/site-packages (from aiven-client) (2.24.0)\r\n",
      "Requirement already satisfied: certifi>=2015.11.20.1 in /Users/jeffreycarlson/opt/anaconda3/lib/python3.8/site-packages (from aiven-client) (2020.6.20)\r\n",
      "Requirement already satisfied: chardet<4,>=3.0.2 in /Users/jeffreycarlson/opt/anaconda3/lib/python3.8/site-packages (from requests>=2.9.1; sys_platform != \"linux\"->aiven-client) (3.0.4)\r\n",
      "Requirement already satisfied: idna<3,>=2.5 in /Users/jeffreycarlson/opt/anaconda3/lib/python3.8/site-packages (from requests>=2.9.1; sys_platform != \"linux\"->aiven-client) (2.10)\r\n",
      "Requirement already satisfied: urllib3!=1.25.0,!=1.25.1,<1.26,>=1.21.1 in /Users/jeffreycarlson/opt/anaconda3/lib/python3.8/site-packages (from requests>=2.9.1; sys_platform != \"linux\"->aiven-client) (1.25.11)\r\n"
     ]
    }
   ],
   "source": [
    "!pip install aiven-client"
   ]
  },
  {
   "cell_type": "code",
   "execution_count": 3,
   "metadata": {},
   "outputs": [
    {
     "name": "stdout",
     "output_type": "stream",
     "text": [
      "Requirement already satisfied: faker in /Users/jeffreycarlson/opt/anaconda3/lib/python3.8/site-packages (24.14.0)\n",
      "Requirement already satisfied: python-dateutil>=2.4 in /Users/jeffreycarlson/opt/anaconda3/lib/python3.8/site-packages (from faker) (2.8.1)\n",
      "Requirement already satisfied: typing-extensions>=3.10.0.1; python_version <= \"3.8\" in /Users/jeffreycarlson/opt/anaconda3/lib/python3.8/site-packages (from faker) (4.5.0)\n",
      "Requirement already satisfied: six>=1.5 in /Users/jeffreycarlson/opt/anaconda3/lib/python3.8/site-packages (from python-dateutil>=2.4->faker) (1.15.0)\n"
     ]
    }
   ],
   "source": [
    "!pip install faker"
   ]
  },
  {
   "cell_type": "code",
   "execution_count": 10,
   "metadata": {},
   "outputs": [
    {
     "name": "stdout",
     "output_type": "stream",
     "text": [
      "Sending Event Key:  {'id': '2895cb99-4923-4746-8a06-da2643c3e7fd'} \n",
      "Sending Event payload: {'id': '2895cb99-4923-4746-8a06-da2643c3e7fd', 'payment_timestamp': '2024-04-29 13:36:36', 'account_number': '0708853976', 'account_holder': 'Pamela Hunter', 'payment_amount': 406.62}\n"
     ]
    }
   ],
   "source": [
    "import json\n",
    "import random\n",
    "import string\n",
    "import uuid\n",
    "from datetime import datetime\n",
    "\n",
    "from faker import Faker\n",
    "from kafka import KafkaProducer\n",
    "\n",
    "fake = Faker()\n",
    "topic_name = 'financial_transactions'\n",
    "\n",
    "producer = KafkaProducer(\n",
    " bootstrap_servers='sa-kafka-homework-carlsongould-2cdd.l.aivencloud.com:10358',\n",
    " security_protocol=\"SSL\",\n",
    " ssl_cafile=\"./ca.pem\",\n",
    " ssl_certfile=\"./service.cert\",\n",
    " ssl_keyfile=\"./service.key\",\n",
    " value_serializer=lambda v: json.dumps(v).encode('ascii'),\n",
    " key_serializer=lambda v: json.dumps(v).encode('ascii')\n",
    ")\n",
    "\n",
    "##########################################\n",
    "# Create fake \"financial\" data\n",
    "##########################################\n",
    "def generate_random_id():\n",
    "    return str(uuid.uuid4())\n",
    "\n",
    "def generate_random_account():\n",
    "    return ''.join(random.choices(string.digits, k=10))\n",
    "\n",
    "def generate_random_amount():\n",
    "    return round(random.uniform(100, 500), 2)\n",
    "\n",
    "def generate_random_timestamp():\n",
    "    return datetime.utcnow().strftime('%Y-%m-%d %H:%M:%S')\n",
    "\n",
    "\n",
    "def generate_event():\n",
    "    event_id = generate_random_id() #payment id\n",
    "    event_timestamp = generate_random_timestamp() #payment timestamp\n",
    "    event_account_number = generate_random_account() #payees payment account\n",
    "    event_account_holder = fake.name()#Payees name\n",
    "    event_amount = generate_random_amount() #payment amount\n",
    "    event_payment_details = str(fake.credit_card_full())\n",
    "    event_url = str(fake.url())\n",
    "\n",
    "    event_data = {\n",
    "        'id': event_id,\n",
    "        'payment_timestamp': event_timestamp,\n",
    "        'account_number': event_account_number.replace(\"\\n\", \" \"),\n",
    "        'account_holder': event_account_holder.replace(\"\\n\", \" \"),\n",
    "        'payment_amount': event_amount        \n",
    "    }\n",
    "    return event_data\n",
    "\n",
    "def delivery_report(err, msg):\n",
    "    if err is not None:\n",
    "        print(\"Message delivery failed: {err}\")\n",
    "    else:\n",
    "        print(\"Message delivered to topic {msg.topic()}\")\n",
    "##############\n",
    "#Send event with key and value\n",
    "##############\n",
    "def produce_event():\n",
    "    event = generate_event()\n",
    "    key = {'id': event['id']}\n",
    "    value = event\n",
    "    print( 'Sending Event Key: ', key, '\\nSending Event payload:',event )\n",
    "    producer.send(topic_name, key=key, value=value)\n",
    "    producer.flush()\n",
    "    return value \n",
    "\n",
    "if __name__ == '__main__':\n",
    "    produce_event()\n",
    "\n"
   ]
  },
  {
   "cell_type": "markdown",
   "metadata": {},
   "source": [
    "<hr><h3>Step 1.4: Validating message in kafka </h3>\n",
    "<b>Section Description</b>:\n",
    "<br>To validate that the data is being received within kafka we must fetch the messages from within the service\n",
    "We will then validate that the service is receiving the messages. \n",
    "From the kafka service overview click:\n",
    "</lu> <li>Topics => Topic Name (financial_transactions)=> Fetch Messages.</li>\n",
    "<li>Change “FORMAT” to json</li>\n",
    "<li>Change “TIMEOUT (S)”  to 10 and click ‘FETCH MESSAGES’</li>\n",
    "<p> The following data will be displayed:\n",
    "    <img src=\"images/kafka.png\" alt=\"kafka queue\" style=\"width:850px;height:300px;\">\n"
   ]
  },
  {
   "cell_type": "markdown",
   "metadata": {},
   "source": [
    "<hr>\n",
    "<h1>Step 2: Aiven Flink </h1>\n",
    "<b>Section Description:</b>\n",
    "<p>Once data flowing into the kafka topic we will be integrate your Kafka service with Aiven Flink as part of this step. <b>Note</b>: This section will be conducted within the Aiven console with the following queries. The queries are specific to the applications being made.\n",
    "\n",
    "<p>We will use Flink to filter the data into 2 new topics in kafka. \n",
    "\n",
    "<p>We will  then split our financial_transactions data into odd/even topics based on whether the seconds for a given transaction are even or odd.  Then output the data to the sink kafka topic.\n",
    "\n",
    "<p>The goal here is to create 2 Flink jobs to split the data to show the power of Flink filtering.\n",
    "\n",
    "<hr>"
   ]
  },
  {
   "cell_type": "markdown",
   "metadata": {},
   "source": [
    "<h3>Step 2.1: Aiven Flink application source query </h3>\n",
    "<b>Section Description:</b>\n",
    "<p>The following query will be utilized as the source table created within Flink for both applications. "
   ]
  },
  {
   "cell_type": "raw",
   "metadata": {},
   "source": [
    "CREATE TABLE financial_transactions (\n",
    "        id STRING,\n",
    "        payment_timestamp TIMESTAMP,\n",
    "        account_number STRING,\n",
    "        account_holder STRING,\n",
    "        payment_amount FLOAT \n",
    ") WITH (\n",
    "    'connector' = 'kafka',\n",
    "    'properties.bootstrap.servers' = '',\n",
    "    'scan.startup.mode' = 'earliest-offset',\n",
    "    'topic' = 'financial_transactions',\n",
    "    'value.format' = 'json')"
   ]
  },
  {
   "cell_type": "markdown",
   "metadata": {},
   "source": [
    "<hr>\n",
    "<h3>Step 2.2: Aiven Flink application queries odd only </h3>\n",
    "<b>Section Description:</b>\n",
    "<br>The following query will be utilized as the source table created within Flink for the odd application only. \n"
   ]
  },
  {
   "cell_type": "raw",
   "metadata": {},
   "source": [
    "CREATE TABLE odd_timestamp_data_sink (\n",
    "        id STRING,\n",
    "        payment_timestamp TIMESTAMP,\n",
    "        account_number STRING,\n",
    "        account_holder STRING,\n",
    "        payment_amount FLOAT \n",
    ") WITH (\n",
    "    'connector' = 'kafka',\n",
    "    'properties.bootstrap.servers' = '',\n",
    "    'scan.startup.mode' = 'earliest-offset',\n",
    "    'topic' = 'odd_timestamp_data_sink',\n",
    "    'value.format' = 'json')"
   ]
  },
  {
   "cell_type": "markdown",
   "metadata": {},
   "source": [
    "<rh>\n",
    "<h3>Step 2.3: Aiven Flink application queries odd </h3>\n",
    "<b>Section Description:</b>\n",
    "<p>The following query will be utilized as to transform and move data specific to odd seconds within the time field to the sink. "
   ]
  },
  {
   "cell_type": "raw",
   "metadata": {},
   "source": [
    "\n",
    "INSERT INTO odd_timestamp_data_sink\n",
    "SELECT * \n",
    "FROM financial_transactions\n",
    "WHERE EXTRACT(second FROM payment_timestamp) % 2 <> 0;"
   ]
  },
  {
   "cell_type": "markdown",
   "metadata": {},
   "source": [
    "<hr><h3>Step 2.4: Aiven Flink application queries even only </h3>\n",
    "<b>Section Description:</b>\n",
    "<p>The following query will be utilized as the source table created within Flink for the even application only. "
   ]
  },
  {
   "cell_type": "raw",
   "metadata": {},
   "source": [
    "CREATE TABLE even_timestamp_data_sink (\n",
    "        id STRING,\n",
    "        payment_timestamp TIMESTAMP,\n",
    "        account_number STRING,\n",
    "        account_holder STRING,\n",
    "        payment_amount FLOAT \n",
    ") WITH (\n",
    "    'connector' = 'kafka',\n",
    "    'properties.bootstrap.servers' = 'sa-kafka-homework-carlsongould-2cdd.l.aivencloud.com:10358',\n",
    "    'scan.startup.mode' = 'earliest-offset',\n",
    "    'topic' = 'even_timestamp_data_sink',\n",
    "    'value.format' = 'json')"
   ]
  },
  {
   "cell_type": "markdown",
   "metadata": {},
   "source": [
    "<rh>\n",
    "<h3>Step 2.5: Aiven Flink application queries even </h3>\n",
    "<b>Section Description:</b>\n",
    "<p>The following query will be utilized as to transform and move data specific to even seconds within the time field to the sink. "
   ]
  },
  {
   "cell_type": "raw",
   "metadata": {},
   "source": [
    "\n",
    "INSERT INTO even_timestamp_data_sink\n",
    "SELECT * \n",
    "FROM financial_transactions\n",
    "WHERE EXTRACT(second FROM payment_timestamp) % 2 = 0;"
   ]
  },
  {
   "cell_type": "markdown",
   "metadata": {},
   "source": [
    "<hr>\n",
    "<h1>Step 3: Aiven M3db </h1>\n",
    "<b>Section Description:</b>\n",
    "<p>A walk through will be conducted as part of this step. Customers will be showed how to integrate the kafka service with M3db.\n",
    "m3db will be used to capture and keep the historical performance data from our kafka service.\n",
    "<hr>"
   ]
  },
  {
   "cell_type": "markdown",
   "metadata": {},
   "source": [
    "<hr>\n",
    "<h1>Step 4: Aiven Grafana </h1>\n",
    "<b>Section Description:</b>\n",
    "<p>A walk through will be conducted as part of this step. Customers will be showed how to integrate the m3db service with Grafana for visualizations.\n",
    "\n",
    "<hr>"
   ]
  },
  {
   "cell_type": "code",
   "execution_count": null,
   "metadata": {},
   "outputs": [],
   "source": []
  }
 ],
 "metadata": {
  "kernelspec": {
   "display_name": "Python 3",
   "language": "python",
   "name": "python3"
  },
  "language_info": {
   "codemirror_mode": {
    "name": "ipython",
    "version": 3
   },
   "file_extension": ".py",
   "mimetype": "text/x-python",
   "name": "python",
   "nbconvert_exporter": "python",
   "pygments_lexer": "ipython3",
   "version": "3.8.3"
  }
 },
 "nbformat": 4,
 "nbformat_minor": 4
}
